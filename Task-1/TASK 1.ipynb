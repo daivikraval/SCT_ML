{
 "cells": [
  {
   "cell_type": "markdown",
   "id": "ce334bb7-8a0a-4674-b51a-a34f8e7bb84e",
   "metadata": {},
   "source": [
    "# Implement a linear regression model to predict the prices of houses based on their square footage and the number of bedrooms and bathrooms."
   ]
  },
  {
   "cell_type": "code",
   "execution_count": 1,
   "id": "44c9cf70-fc92-4105-923b-d9f318c98468",
   "metadata": {},
   "outputs": [],
   "source": [
    "import pandas as pd\n",
    "import numpy as np\n",
    "import matplotlib.pyplot as plt\n",
    "import seaborn as sns\n",
    "from sklearn.model_selection import train_test_split\n",
    "from sklearn.linear_model import LinearRegression\n",
    "from sklearn.metrics import mean_squared_error, r2_score"
   ]
  },
  {
   "cell_type": "code",
   "execution_count": 2,
   "id": "48bb268f-ee61-453a-af97-bf298532b12e",
   "metadata": {},
   "outputs": [
    {
     "name": "stdout",
     "output_type": "stream",
     "text": [
      "Model Evaluation\n",
      "Mean Squared Error: 599209563.7646029\n",
      "R2 Score: 0.909041840103889\n"
     ]
    }
   ],
   "source": [
    "np.random.seed(42)\n",
    "n_sample = 100\n",
    "\n",
    "sqft = np.random.randint(800,2000,n_sample)\n",
    "bedrooms = np.random.randint(1,5,n_sample)\n",
    "bathrooms = np.random.randint(1,4,n_sample)\n",
    "\n",
    "price = (sqft * 200) + (bedrooms * 15000) + (bathrooms * 10000) + np.random.normal(0, 25000, n_sample)\n",
    "\n",
    "data = pd.DataFrame({\n",
    "    \"sqft\":sqft,\n",
    "    \"bedrooms\":bedrooms,\n",
    "    \"bathrooms\":bathrooms,\n",
    "    \"price\":price\n",
    "})\n",
    "\n",
    "X = data[[\"sqft\", \"bedrooms\", \"bathrooms\"]]\n",
    "y = data[\"price\"]\n",
    "\n",
    "X_train, X_test, y_train, y_test = train_test_split(X, y, train_size=0.2, random_state=42)\n",
    "\n",
    "model = LinearRegression()\n",
    "model.fit(X_train, y_train)\n",
    "\n",
    "y_pred = model.predict(X_test)\n",
    "\n",
    "print(\"Model Evaluation\")\n",
    "print(\"Mean Squared Error:\", mean_squared_error(y_test, y_pred))\n",
    "print(\"R2 Score:\",r2_score(y_test, y_pred))"
   ]
  },
  {
   "cell_type": "code",
   "execution_count": null,
   "id": "6d5aa5ed-0257-4e6e-b55a-912daa891759",
   "metadata": {},
   "outputs": [],
   "source": []
  }
 ],
 "metadata": {
  "kernelspec": {
   "display_name": "Python 3 (ipykernel)",
   "language": "python",
   "name": "python3"
  },
  "language_info": {
   "codemirror_mode": {
    "name": "ipython",
    "version": 3
   },
   "file_extension": ".py",
   "mimetype": "text/x-python",
   "name": "python",
   "nbconvert_exporter": "python",
   "pygments_lexer": "ipython3",
   "version": "3.13.5"
  }
 },
 "nbformat": 4,
 "nbformat_minor": 5
}
